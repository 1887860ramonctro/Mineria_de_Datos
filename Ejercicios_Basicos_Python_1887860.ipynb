{
 "cells": [
  {
   "cell_type": "markdown",
   "metadata": {},
   "source": [
    "# Ejercicio 1\n",
    "Realiza una variable con tu matricula y realiza una secuencia de imprimir con tu nombre y tu matricula concatenados"
   ]
  },
  {
   "cell_type": "code",
   "execution_count": 1,
   "metadata": {},
   "outputs": [
    {
     "name": "stdout",
     "output_type": "stream",
     "text": [
      "Jesus Ramon Castro Hernandez 1887860\n"
     ]
    }
   ],
   "source": [
    "mat=1887860\n",
    "print(\"Jesus Ramon Castro Hernandez\", mat)"
   ]
  },
  {
   "cell_type": "markdown",
   "metadata": {},
   "source": [
    "# Ejercicio 2:\n",
    "Pidiendo el input del usuario pide dos números y crea una pequeña calculadora con los operadores básicos de suma, resta, multiplicación, división, y exponente.\n",
    "\n",
    "Utilizando el loop de while"
   ]
  },
  {
   "cell_type": "code",
   "execution_count": 1,
   "metadata": {},
   "outputs": [
    {
     "name": "stdin",
     "output_type": "stream",
     "text": [
      " \n",
      "Introduce un número: 70\n",
      "Introduce otro número:  3\n"
     ]
    },
    {
     "name": "stdout",
     "output_type": "stream",
     "text": [
      "1.Suma (a+b) 2.Resta (a-b) 3.Multiplicacion (a*b) 4.Division (a/b) 5.Salir\n"
     ]
    },
    {
     "name": "stdin",
     "output_type": "stream",
     "text": [
      "Seleccione una opcion: 4\n"
     ]
    },
    {
     "name": "stdout",
     "output_type": "stream",
     "text": [
      "Resultado--> 23.333333333333332\n"
     ]
    },
    {
     "name": "stdin",
     "output_type": "stream",
     "text": [
      " \n",
      "Introduce un número: 0\n",
      "Introduce otro número:  0\n"
     ]
    },
    {
     "name": "stdout",
     "output_type": "stream",
     "text": [
      "1.Suma (a+b) 2.Resta (a-b) 3.Multiplicacion (a*b) 4.Division (a/b) 5.Salir\n"
     ]
    },
    {
     "name": "stdin",
     "output_type": "stream",
     "text": [
      "Seleccione una opcion: 5\n"
     ]
    },
    {
     "name": "stdout",
     "output_type": "stream",
     "text": [
      "Adios\n"
     ]
    }
   ],
   "source": [
    "op=0\n",
    "while op != 1:\n",
    "    input()\n",
    "    a = int(input(\"Introduce un número:\" ))\n",
    "    b = int(input(\"Introduce otro número: \"))\n",
    "    print(\"1.Suma (a+b) 2.Resta (a-b) 3.Multiplicacion (a*b) 4.Division (a/b) 5.Salir\")\n",
    "    sel = int(input(\"Seleccione una opcion:\" ))\n",
    "    if sel==1:\n",
    "         print(\"Resultado-->\",a+b)\n",
    "    elif sel==2:\n",
    "        print(\"Resultado-->\",a-b)\n",
    "    elif sel==3:\n",
    "        print(\"Resultado-->\",a*b)\n",
    "    elif sel==4:\n",
    "        print(\"Resultado-->\",a/b)\n",
    "    elif sel==5:\n",
    "        print(\"Adios\")\n",
    "        op=1\n",
    "    else:\n",
    "        print(\"Opcion no valida\")    "
   ]
  },
  {
   "cell_type": "markdown",
   "metadata": {},
   "source": [
    "# Ejercicio 3:\n",
    "Con loop while o for, realiza una lista de 10 numeros multiplos de 3, y después realiza una función de loop que sume todos los números dentro del arreglo."
   ]
  },
  {
   "cell_type": "code",
   "execution_count": 9,
   "metadata": {},
   "outputs": [
    {
     "name": "stdout",
     "output_type": "stream",
     "text": [
      "El arreglo es--> [3, 6, 9, 12, 15, 18, 21, 24, 27, 30]\n",
      "La suma del arreglo es--> 165\n"
     ]
    }
   ],
   "source": [
    "thislist=[]\n",
    "for i in range(1,11,1):\n",
    "    thislist.append(i*3)\n",
    "suma=0\n",
    "print(\"El arreglo es-->\", thislist)\n",
    "for i in range(0,10,1):\n",
    "    suma=suma+thislist[i]\n",
    "print(\"La suma del arreglo es-->\", suma)"
   ]
  },
  {
   "cell_type": "markdown",
   "metadata": {},
   "source": [
    "# Ejercicio 4\n",
    "Con una función de if else, revisar si un número es par o es impar.\n",
    "Con una función de if else, revisar si un número es primo o no."
   ]
  },
  {
   "cell_type": "code",
   "execution_count": 20,
   "metadata": {},
   "outputs": [
    {
     "name": "stdin",
     "output_type": "stream",
     "text": [
      "Introduce un número: 151\n"
     ]
    },
    {
     "name": "stdout",
     "output_type": "stream",
     "text": [
      "El numero 151  es impar\n",
      "El numero 151  es primo\n"
     ]
    }
   ],
   "source": [
    "a = int(input(\"Introduce un número:\" ))\n",
    "if a%2==0:\n",
    "    print(\"El numero\",a,\" es par\")\n",
    "else:\n",
    "    print(\"El numero\",a,\" es impar\")\n",
    "for i in range(2,a):\n",
    "    if a%i==0:\n",
    "        print(\"El numero\",a,\" no es primo\")\n",
    "        break\n",
    "else:\n",
    "    print(\"El numero\",a,\" es primo\")"
   ]
  },
  {
   "cell_type": "markdown",
   "metadata": {},
   "source": [
    "# Ejercicio 5\n",
    "Utilizando diferentes clases en python, crea una calculadora con los operadores básicos de suma, resta, multiplicación, división, y exponente."
   ]
  },
  {
   "cell_type": "code",
   "execution_count": 21,
   "metadata": {},
   "outputs": [
    {
     "name": "stdin",
     "output_type": "stream",
     "text": [
      " \n",
      "Introduce un número: 3\n",
      "Introduce otro número:  4\n"
     ]
    },
    {
     "name": "stdout",
     "output_type": "stream",
     "text": [
      "1.Suma (a+b) 2.Resta (a-b) 3.Multiplicacion (a*b) 4.Division (a/b) 5.Salir\n"
     ]
    },
    {
     "name": "stdin",
     "output_type": "stream",
     "text": [
      "Seleccione una opcion: 1\n"
     ]
    },
    {
     "name": "stdout",
     "output_type": "stream",
     "text": [
      "Resultado--> 7\n"
     ]
    },
    {
     "name": "stdin",
     "output_type": "stream",
     "text": [
      " \n",
      "Introduce un número: 4\n",
      "Introduce otro número:  5\n"
     ]
    },
    {
     "name": "stdout",
     "output_type": "stream",
     "text": [
      "1.Suma (a+b) 2.Resta (a-b) 3.Multiplicacion (a*b) 4.Division (a/b) 5.Salir\n"
     ]
    },
    {
     "name": "stdin",
     "output_type": "stream",
     "text": [
      "Seleccione una opcion: 4\n"
     ]
    },
    {
     "name": "stdout",
     "output_type": "stream",
     "text": [
      "Resultado--> 0.8\n"
     ]
    },
    {
     "name": "stdin",
     "output_type": "stream",
     "text": [
      " \n",
      "Introduce un número: 5\n",
      "Introduce otro número:  5\n"
     ]
    },
    {
     "name": "stdout",
     "output_type": "stream",
     "text": [
      "1.Suma (a+b) 2.Resta (a-b) 3.Multiplicacion (a*b) 4.Division (a/b) 5.Salir\n"
     ]
    },
    {
     "name": "stdin",
     "output_type": "stream",
     "text": [
      "Seleccione una opcion: 5\n"
     ]
    },
    {
     "name": "stdout",
     "output_type": "stream",
     "text": [
      "Adios\n"
     ]
    }
   ],
   "source": [
    "def suma(a,b):\n",
    "    return a+b\n",
    "def resta(a,b):\n",
    "    return a-b\n",
    "def mult(a,b):\n",
    "    return a*b\n",
    "def divi(a,b):\n",
    "    return a/b\n",
    "op=0\n",
    "while op != 1:\n",
    "    input()\n",
    "    a = int(input(\"Introduce un número:\" ))\n",
    "    b = int(input(\"Introduce otro número: \"))\n",
    "    print(\"1.Suma (a+b) 2.Resta (a-b) 3.Multiplicacion (a*b) 4.Division (a/b) 5.Salir\")\n",
    "    sel = int(input(\"Seleccione una opcion:\" ))\n",
    "    if sel==1:\n",
    "         print(\"Resultado-->\",suma(a,b))\n",
    "    elif sel==2:\n",
    "        print(\"Resultado-->\",resta(a,b))\n",
    "    elif sel==3:\n",
    "        print(\"Resultado-->\",mult(a,b))\n",
    "    elif sel==4:\n",
    "        print(\"Resultado-->\",divi(a,b))\n",
    "    elif sel==5:\n",
    "        print(\"Adios\")\n",
    "        op=1\n",
    "    else:\n",
    "        print(\"Opcion no valida\")    "
   ]
  },
  {
   "cell_type": "markdown",
   "metadata": {},
   "source": [
    "# Ejercicios con estructuras básicas de python.\n",
    "## Tuplas\n",
    "+ Crear una variable flotante, integer, boleana y compleja e imprimir el tipo de variable que es.\n",
    "+ Crear una tupla con valores enteros imprimir el primer y ultimo valor.\n",
    "+ Añadir 3 valores de string a la tupla.\n",
    "+ Verificar si una variable existe dentro de la tupla."
   ]
  },
  {
   "cell_type": "code",
   "execution_count": 2,
   "metadata": {},
   "outputs": [],
   "source": [
    "flotante=3.76\n",
    "entero=3\n",
    "boleano=False\n",
    "compleja=3+6j"
   ]
  },
  {
   "cell_type": "code",
   "execution_count": 4,
   "metadata": {},
   "outputs": [
    {
     "name": "stdout",
     "output_type": "stream",
     "text": [
      "<class 'float'> <class 'int'> <class 'bool'> <class 'complex'>\n"
     ]
    }
   ],
   "source": [
    "print(type(flotante), type(entero), type(boleano), type(compleja))"
   ]
  },
  {
   "cell_type": "code",
   "execution_count": 8,
   "metadata": {},
   "outputs": [
    {
     "name": "stdout",
     "output_type": "stream",
     "text": [
      "3 , 6\n"
     ]
    }
   ],
   "source": [
    "a=(2,3,4,6)\n",
    "print(a[1],\",\", a[-1])"
   ]
  },
  {
   "cell_type": "code",
   "execution_count": 10,
   "metadata": {},
   "outputs": [
    {
     "data": {
      "text/plain": [
       "(2, 3, 4, 6, 'Hola', 'soy', 'jesus')"
      ]
     },
     "execution_count": 10,
     "metadata": {},
     "output_type": "execute_result"
    }
   ],
   "source": [
    "a=a+(\"Hola\", \"soy\", \"jesus\")\n",
    "a"
   ]
  },
  {
   "cell_type": "code",
   "execution_count": 11,
   "metadata": {},
   "outputs": [
    {
     "data": {
      "text/plain": [
       "(True, False)"
      ]
     },
     "execution_count": 11,
     "metadata": {},
     "output_type": "execute_result"
    }
   ],
   "source": [
    "\"Hola\" in a, 12 in a"
   ]
  },
  {
   "cell_type": "markdown",
   "metadata": {},
   "source": [
    "## Listas\n",
    "+ Crear una lista con 40 elementos aleatorios enteros.\n",
    "+ Con una funcion (def) crear dos listas nuevas a partir de la lista creada por numeros aleatorios, en la cual en una esten los elementos pares, y en la otra los elementos impares.\n",
    "+ Crear dos variables con la longitud de ambas listas nuevas e imprimir las variables.\n",
    "+ Ordenar los elementos de la lista par de mayor a menor, y los de la lista impar de menor a mayor.\n",
    "+ Utilizar al menos cuatro de las funciones de listas en python en la lista original de 40 elementos."
   ]
  },
  {
   "cell_type": "code",
   "execution_count": 14,
   "metadata": {},
   "outputs": [
    {
     "data": {
      "text/plain": [
       "[191,\n",
       " 310,\n",
       " 98,\n",
       " 469,\n",
       " 582,\n",
       " 417,\n",
       " 687,\n",
       " 464,\n",
       " 619,\n",
       " 169,\n",
       " 523,\n",
       " 375,\n",
       " 804,\n",
       " 684,\n",
       " 218,\n",
       " 867,\n",
       " 312,\n",
       " 592,\n",
       " 596,\n",
       " 576,\n",
       " 48,\n",
       " 727,\n",
       " 952,\n",
       " 861,\n",
       " 285,\n",
       " 69,\n",
       " 534,\n",
       " 495,\n",
       " 416,\n",
       " 292,\n",
       " 264,\n",
       " 321,\n",
       " 974,\n",
       " 295,\n",
       " 47,\n",
       " 710,\n",
       " 496,\n",
       " 757,\n",
       " 459,\n",
       " 954]"
      ]
     },
     "execution_count": 14,
     "metadata": {},
     "output_type": "execute_result"
    }
   ],
   "source": [
    "from random import randint\n",
    "lista=[randint(1, 1000) for i in range(40)]\n",
    "lista"
   ]
  },
  {
   "cell_type": "code",
   "execution_count": 18,
   "metadata": {},
   "outputs": [
    {
     "name": "stdout",
     "output_type": "stream",
     "text": [
      "Pares= [310, 98, 582, 464, 804, 684, 218, 312, 592, 596, 576, 48, 952, 534, 416, 292, 264, 974, 710, 496, 954]\n",
      "Impares= [191, 469, 417, 687, 619, 169, 523, 375, 867, 727, 861, 285, 69, 495, 321, 295, 47, 757, 459]\n"
     ]
    }
   ],
   "source": [
    "def separador(lista):\n",
    "    lim=len(lista)\n",
    "    pares=[]\n",
    "    impares=[]\n",
    "    for i in range(lim):\n",
    "        if lista[i]%2==0:\n",
    "            pares.append(lista[i])\n",
    "        else:\n",
    "            impares.append(lista[i])\n",
    "    return pares,impares\n",
    "pares, impares=separador(lista)\n",
    "print(\"Pares=\", pares)\n",
    "print(\"Impares=\",impares)"
   ]
  },
  {
   "cell_type": "code",
   "execution_count": 19,
   "metadata": {},
   "outputs": [
    {
     "name": "stdout",
     "output_type": "stream",
     "text": [
      "Longitudes:\n",
      "Pares= 21\n",
      "Impares= 19\n"
     ]
    }
   ],
   "source": [
    "long_pares=len(pares)\n",
    "long_impares=len(impares)\n",
    "print(\"Longitudes:\")\n",
    "print(\"Pares=\", long_pares)\n",
    "print(\"Impares=\",long_impares)"
   ]
  },
  {
   "cell_type": "code",
   "execution_count": 20,
   "metadata": {},
   "outputs": [
    {
     "name": "stdout",
     "output_type": "stream",
     "text": [
      "Pares= [974, 954, 952, 804, 710, 684, 596, 592, 582, 576, 534, 496, 464, 416, 312, 310, 292, 264, 218, 98, 48]\n",
      "Impares= [47, 69, 169, 191, 285, 295, 321, 375, 417, 459, 469, 495, 523, 619, 687, 727, 757, 861, 867]\n"
     ]
    }
   ],
   "source": [
    "pares.sort(reverse=True)\n",
    "impares.sort()\n",
    "print(\"Pares=\", pares)\n",
    "print(\"Impares=\",impares)"
   ]
  },
  {
   "cell_type": "code",
   "execution_count": 37,
   "metadata": {},
   "outputs": [
    {
     "name": "stdout",
     "output_type": "stream",
     "text": [
      "[169, 310, 582, 47, 416, 295, 48, 974, 684, 727]\n"
     ]
    }
   ],
   "source": [
    "import random as rd\n",
    "list_ejemplo=rd.sample(lista,10)\n",
    "print(list_ejemplo)"
   ]
  },
  {
   "cell_type": "code",
   "execution_count": 38,
   "metadata": {},
   "outputs": [
    {
     "name": "stdout",
     "output_type": "stream",
     "text": [
      "[169, 310, 582, 47, 416, 295, 48, 974, 684, 727, 1000]\n"
     ]
    }
   ],
   "source": [
    "list_ejemplo.append(1000)\n",
    "print(list_ejemplo)"
   ]
  },
  {
   "cell_type": "code",
   "execution_count": 39,
   "metadata": {},
   "outputs": [
    {
     "name": "stdout",
     "output_type": "stream",
     "text": [
      "[169, 310, 582, 47, 'hola', 416, 295, 48, 974, 684, 727, 1000]\n"
     ]
    }
   ],
   "source": [
    "list_ejemplo.insert(4, \"hola\")\n",
    "print(list_ejemplo)"
   ]
  },
  {
   "cell_type": "code",
   "execution_count": 40,
   "metadata": {},
   "outputs": [
    {
     "name": "stdout",
     "output_type": "stream",
     "text": [
      "[1000, 727, 684, 974, 48, 295, 416, 'hola', 47, 582, 310, 169]\n"
     ]
    }
   ],
   "source": [
    "list_ejemplo.reverse()\n",
    "print(list_ejemplo)"
   ]
  },
  {
   "cell_type": "code",
   "execution_count": 41,
   "metadata": {},
   "outputs": [
    {
     "name": "stdout",
     "output_type": "stream",
     "text": [
      "[1000, 727, 684, 974, 48, 295, 416, 'hola', 582, 310, 169]\n"
     ]
    }
   ],
   "source": [
    "list_ejemplo.pop(8)\n",
    "print(list_ejemplo)"
   ]
  },
  {
   "cell_type": "markdown",
   "metadata": {},
   "source": [
    "## Diccionarios\n",
    "+ Crear un diccionario de 6 personas que conozcas con su primer nombre y su edad.\n",
    "+ Crear una lista con los valores de la edad y reacomodar la lista de menor a mayor valor.\n",
    "+ Usando el diccionario y un loop, imprimir solo los nombres.\n",
    "+ Añadir dos personas nuevas a tu diccionario, incluyendo edad."
   ]
  },
  {
   "cell_type": "code",
   "execution_count": 42,
   "metadata": {},
   "outputs": [
    {
     "data": {
      "text/plain": [
       "{'Jesus': 21,\n",
       " 'Larissa': 22,\n",
       " 'Sabina': 20,\n",
       " 'Martha': 55,\n",
       " 'Fabian': 58,\n",
       " 'Luis': 28}"
      ]
     },
     "execution_count": 42,
     "metadata": {},
     "output_type": "execute_result"
    }
   ],
   "source": [
    "diccionario={\"Jesus\":21,\"Larissa\":22,\"Sabina\":20,\"Martha\":55,\"Fabian\":58,\"Luis\":28}\n",
    "diccionario"
   ]
  },
  {
   "cell_type": "code",
   "execution_count": 43,
   "metadata": {},
   "outputs": [
    {
     "name": "stdout",
     "output_type": "stream",
     "text": [
      "[20, 21, 22, 28, 55, 58]\n"
     ]
    }
   ],
   "source": [
    "edades=[i for i in diccionario.values()]\n",
    "edades.sort()\n",
    "print(edades)"
   ]
  },
  {
   "cell_type": "code",
   "execution_count": 44,
   "metadata": {},
   "outputs": [
    {
     "name": "stdout",
     "output_type": "stream",
     "text": [
      "Jesus\n",
      "Larissa\n",
      "Sabina\n",
      "Martha\n",
      "Fabian\n",
      "Luis\n"
     ]
    }
   ],
   "source": [
    "for i in diccionario:\n",
    "    print(i)"
   ]
  },
  {
   "cell_type": "code",
   "execution_count": 45,
   "metadata": {},
   "outputs": [
    {
     "data": {
      "text/plain": [
       "{'Jesus': 21,\n",
       " 'Larissa': 22,\n",
       " 'Sabina': 20,\n",
       " 'Martha': 55,\n",
       " 'Fabian': 58,\n",
       " 'Luis': 28,\n",
       " 'Luz': 79,\n",
       " 'Lucila': 80}"
      ]
     },
     "execution_count": 45,
     "metadata": {},
     "output_type": "execute_result"
    }
   ],
   "source": [
    "diccionario[\"Luz\"]=79\n",
    "diccionario[\"Lucila\"]=80\n",
    "diccionario"
   ]
  },
  {
   "cell_type": "markdown",
   "metadata": {},
   "source": [
    "## Sets\n",
    "+ Crea un set con 100 numeros aleatorios enteros del 1 al 25.\n",
    "+ Comprueba la longitud de tu set.\n",
    "+ Crea una lista de 5 numeros aleatorios del 1 al 10 y comprueba si cada valor aparece en el set inicial."
   ]
  },
  {
   "cell_type": "code",
   "execution_count": 48,
   "metadata": {},
   "outputs": [
    {
     "data": {
      "text/plain": [
       "{1,\n",
       " 2,\n",
       " 3,\n",
       " 4,\n",
       " 5,\n",
       " 6,\n",
       " 7,\n",
       " 8,\n",
       " 9,\n",
       " 10,\n",
       " 11,\n",
       " 12,\n",
       " 13,\n",
       " 14,\n",
       " 15,\n",
       " 16,\n",
       " 17,\n",
       " 18,\n",
       " 19,\n",
       " 20,\n",
       " 21,\n",
       " 22,\n",
       " 23,\n",
       " 24,\n",
       " 25}"
      ]
     },
     "execution_count": 48,
     "metadata": {},
     "output_type": "execute_result"
    }
   ],
   "source": [
    "set_prueba={randint(1, 25) for i in range(100)}\n",
    "set_prueba"
   ]
  },
  {
   "cell_type": "code",
   "execution_count": 49,
   "metadata": {},
   "outputs": [
    {
     "name": "stdout",
     "output_type": "stream",
     "text": [
      "25\n"
     ]
    }
   ],
   "source": [
    "print(len(set_prueba))"
   ]
  },
  {
   "cell_type": "code",
   "execution_count": 52,
   "metadata": {},
   "outputs": [
    {
     "name": "stdout",
     "output_type": "stream",
     "text": [
      "[8, 2, 4, 1, 10]\n",
      "El numero  8 si esta en el diccionario\n",
      "El numero  2 si esta en el diccionario\n",
      "El numero  4 si esta en el diccionario\n",
      "El numero  1 si esta en el diccionario\n",
      "El numero  10 si esta en el diccionario\n"
     ]
    }
   ],
   "source": [
    "lista_enset=[randint(1, 10) for i in range(5)]\n",
    "print(lista_enset)\n",
    "for i in range(5):\n",
    "    if lista_enset[i] in set_prueba:\n",
    "        print(\"El numero \", lista_enset[i],\"si esta en el diccionario\")\n",
    "    else:\n",
    "        print(\"El numero \", lista_enset[i],\"no esta en el diccionario\")\n",
    "    \n"
   ]
  }
 ],
 "metadata": {
  "kernelspec": {
   "display_name": "Python 3",
   "language": "python",
   "name": "python3"
  },
  "language_info": {
   "codemirror_mode": {
    "name": "ipython",
    "version": 3
   },
   "file_extension": ".py",
   "mimetype": "text/x-python",
   "name": "python",
   "nbconvert_exporter": "python",
   "pygments_lexer": "ipython3",
   "version": "3.7.6"
  }
 },
 "nbformat": 4,
 "nbformat_minor": 4
}
